{
 "cells": [
  {
   "cell_type": "code",
   "execution_count": 20,
   "metadata": {},
   "outputs": [],
   "source": [
    "''' \n",
    "Cargar el dataset: Lee el dataset de notas de estudiantes en Python y almacénalo en una estructura de datos adecuada, como un DataFrame de Pandas.\n",
    "\n",
    "Graficar la distribución de notas con un boxplot: Utiliza Plotly para crear un boxplot que muestre la distribución de notas de los estudiantes. Asegúrate de ajustar los ejes, agregar un título y etiquetas apropiadas para el gráfico.\n",
    "'''\n",
    "import pandas as pd\n",
    "\n",
    "# Define el dataset\n",
    "datos = {\n",
    "    'id': [1, 2, 3, 4, 5, 6, 7, 8, 9, 10, 11, 12, 13, 14, 15, 16, 17, 18, 19, 20],\n",
    "    'materia': ['Matemáticas', 'Historia', 'Ciencias', 'Lenguaje', 'Matemáticas', 'Historia', 'Ciencias', 'Lenguaje',\n",
    "                'Matemáticas', 'Historia', 'Ciencias', 'Lenguaje', 'Matemáticas', 'Historia', 'Ciencias', 'Lenguaje',\n",
    "                'Matemáticas', 'Historia', 'Ciencias', 'Lenguaje'],\n",
    "    'nota': [80, 65, 90, 75, 95, 70, 85, 60, 78, 82, 93, 68, 73, 88, 77, 50, 92, 63, 85, 79],\n",
    "    'aprobado': ['Sí', 'No', 'Sí', 'Sí', 'Sí', 'Sí', 'Sí', 'No', 'Sí', 'Sí', 'Sí', 'Sí', 'Sí', 'Sí', 'Sí', 'No', 'Sí', 'No', 'Sí', 'Sí']\n",
    "}\n",
    "\n",
    "# Crea un DataFrame de Pandas\n",
    "df = pd.DataFrame(datos)\n"
   ]
  },
  {
   "cell_type": "code",
   "execution_count": null,
   "metadata": {},
   "outputs": [],
   "source": [
    "import plotly.graph_objects as go\n",
    "df = pd.DataFrame(datos)\n",
    "# Crea un boxplot con Plotly\n",
    "fig_boxplot = go.Figure()\n",
    "\n",
    "for materia in df['materia'].unique():\n",
    "    fig_boxplot.add_trace(go.Box(y=df[df['materia'] == materia]['nota'], name=materia))\n",
    "\n",
    "# Actualiza el diseño de la figura\n",
    "fig_boxplot.update_layout(\n",
    "    title='Distribución de notas por materia',\n",
    "    yaxis=dict(title='Notas', zeroline=False),\n",
    "    xaxis=dict(title='Materia', zeroline=False),\n",
    "    boxmode='group'\n",
    ")\n",
    "\n",
    "# Muestra la figura\n",
    "fig_boxplot.show()"
   ]
  },
  {
   "cell_type": "code",
   "execution_count": null,
   "metadata": {},
   "outputs": [],
   "source": [
    "import pandas as pd\n",
    "import plotly.graph_objects as go\n",
    "\n",
    "\n",
    "# Filtrar estudiantes que aprobaron y reprobaron\n",
    "aprobaron = df[df['aprobado'] == 'Sí']\n",
    "reprobaron = df[df['aprobado'] == 'No']\n",
    "\n",
    "# Crear un Pie Chart con Plotly\n",
    "fig = go.Figure(data=[go.Pie(labels=['Aprobaron', 'Reprobaron'], values=[len(aprobaron), len(reprobaron)])])\n",
    "\n",
    "# Actualizar el diseño del Pie Chart\n",
    "fig.update_layout(title_text='Proporción de Estudiantes que Aprobaron y Reprobaron')\n",
    "\n",
    "# Mostrar el Pie Chart\n",
    "fig.show()"
   ]
  }
 ],
 "metadata": {
  "kernelspec": {
   "display_name": "Python 3",
   "language": "python",
   "name": "python3"
  },
  "language_info": {
   "codemirror_mode": {
    "name": "ipython",
    "version": 3
   },
   "file_extension": ".py",
   "mimetype": "text/x-python",
   "name": "python",
   "nbconvert_exporter": "python",
   "pygments_lexer": "ipython3",
   "version": "3.11.5"
  }
 },
 "nbformat": 4,
 "nbformat_minor": 2
}
